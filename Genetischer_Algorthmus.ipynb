{
 "cells": [
  {
   "cell_type": "code",
   "execution_count": null,
   "id": "8aabeab1",
   "metadata": {},
   "outputs": [],
   "source": [
    "# -*- coding:utf-8 -*-\n",
    "import numpy as np\n",
    "import matplotlib.pyplot as plt\n",
    "from matplotlib import path\n",
    "from scipy.spatial.distance import pdist,squareform"
   ]
  },
  {
   "cell_type": "code",
   "execution_count": null,
   "id": "13319f1a",
   "metadata": {},
   "outputs": [],
   "source": [
    "#Definition von Konstanten für die Anzeige der Stadtindizess\n",
    "xshift=0.2\n",
    "yshift=0.2\n",
    "\n",
    "#Anzahl der Städte\n",
    "cities = 20"
   ]
  },
  {
   "cell_type": "code",
   "execution_count": null,
   "id": "4150278e",
   "metadata": {},
   "outputs": [],
   "source": [
    "#X- und Y- Koordinaten des Polygons, innerhalb dessen die Städte liegen\n",
    "x=np.array([2, 10, 14, 11, 15, 14, 10, 7, 5, 2, 1, 3, 2])\n",
    "y=np.array([2, 0, 2, 5, 9, 19, 16, 19, 16, 12, 6, 5, 2])\n",
    "Verts=np.array([x,y]).transpose()\n",
    "p = path.Path(Verts)"
   ]
  },
  {
   "cell_type": "code",
   "execution_count": null,
   "id": "009b6073",
   "metadata": {},
   "outputs": [],
   "source": [
    "#Erzeugen der Städte und der Plot der Städte in der grafischen Oberfläche\n",
    "plt.figure(1)\n",
    "plt.subplot(121)\n",
    "plt.plot(x,y)\n",
    "plt.grid(True)\n",
    "#plt.hold(True)\n",
    "i=0\n",
    "np.random.seed(seed=346466)\n",
    "locations=np.zeros((cities,2)) #Zufällige Festlegung der Orte\n",
    "while i in range(cities):\n",
    "        xp=np.random.randint(0,max(x))\n",
    "        yp=np.random.randint(0,max(y))\n",
    "        isin=p.contains_point((xp,yp)) #testet ob der Punkt innerhalb des Polygons liegt\n",
    "        #print(xp, yp, isin)\n",
    "        if isin:\n",
    "                locations[i,:]=[xp,yp]\n",
    "                plt.plot([xp],[yp],'ro')\n",
    "                plt.text(xp+xshift,yp+yshift,str(i))\n",
    "                i+=1\n",
    "#print(locations)"
   ]
  },
  {
   "cell_type": "code",
   "execution_count": null,
   "id": "377b754b",
   "metadata": {},
   "outputs": [],
   "source": [
    "#Berechnung der euklidischen Distanz zwischen allen möglichen Stadtpaaren\n",
    "distances = squareform(pdist(locations,'euclidean'))\n",
    "#print(distances)\n",
    "\n",
    "np.random.seed()"
   ]
  },
  {
   "cell_type": "markdown",
   "id": "2fa61a4e",
   "metadata": {},
   "source": [
    "# Genetischer Algorithmus zur Lösung des TSP "
   ]
  },
  {
   "cell_type": "code",
   "execution_count": null,
   "id": "8365e4e4",
   "metadata": {},
   "outputs": [],
   "source": [
    "#Definition der Konstanten für den GA\n",
    "ITERATIONS=30;\n",
    "POPSIZE=16;\n",
    "CROSSPROP=0.99;\n",
    "MUTPROP=0.05;\n",
    "\n",
    "bestDist=np.zeros(ITERATIONS) #In diesem Array wird für jede Iteration die beste Distanz gespeichert"
   ]
  },
  {
   "cell_type": "code",
   "execution_count": null,
   "id": "82d2ad63",
   "metadata": {},
   "outputs": [],
   "source": [
    "#Erzeugen einer zufälligen Startpopulation\n",
    "population=np.zeros((POPSIZE,cities+1))\n",
    "for j in range(POPSIZE):\n",
    "    population[j,0:cities]=np.random.permutation(cities)\n",
    "    population[j,cities]=population[j,0]\n",
    "#print(population)"
   ]
  },
  {
   "cell_type": "code",
   "execution_count": null,
   "id": "c68f8772",
   "metadata": {},
   "outputs": [],
   "source": [
    "cost=np.zeros(POPSIZE)#Speichert die Kosten jedes Chromosoms der aktuellen Population\n",
    "#Berechnung der Kosten jedes Chromosoms"
   ]
  },
  {
   "cell_type": "code",
   "execution_count": null,
   "id": "bef43ff2",
   "metadata": {},
   "outputs": [],
   "source": [
    "##################################################################################################\n",
    "for it in range(ITERATIONS):\n",
    "    \n",
    "    #1.Berechne Fitness der aktuellen Chromosomen#################################################\n",
    "    for j,pop in enumerate(population):\n",
    "        cost[j]=0\n",
    "        for z in range(cities):\n",
    "            print(j,z,cost[j],pop[z],pop[z+1])\n",
    "            cost[j]=cost[j]+distances[int(pop[z]),int(pop[z+1])]\n",
    "\n",
    "    sortedIndex=cost.argsort(axis=0)#Indizees der nach ansteigenden Kosten sortierten Chromosomen\n",
    "    sortedCost=cost[sortedIndex] #die ansteigend sortierten Kosten\n",
    "    bestDist[it]=sortedCost[0]\n",
    "    sortedPopulation=population[sortedIndex] #Sortierung der Population nach ansteigenden Kosten\n",
    "    InvertedCost=1/sortedCost #Berechung des Nutzen (Fitness) aus den Kosten\n",
    "    #InvertedCost enthält die berechneten Fitness-Werte\n",
    "\n",
    "    if it%100==0:\n",
    "        print('-'*10+' Iteration: ',it)\n",
    "        print(InvertedCost[0])\n",
    "        print(sortedPopulation[0])\n",
    "\n",
    "    #2.Selektion: Zufällige Auswahl von Chromosomen aus der Population####################\n",
    "    #Mit dem folgenden Prozess wird gewährleistet, dass die Wahrscheinlichkeit für die\n",
    "    #Selektion eines Chromosoms umso größer ist, je größer sein Nutzenwert ist.\n",
    "    InvertedCostSum = InvertedCost.sum()\n",
    "    rn1=InvertedCostSum*np.random.rand()\n",
    "    found1 = False\n",
    "    index=1\n",
    "    while not found1:\n",
    "        if rn1<InvertedCost[:index].sum(axis=0):\n",
    "            found1=index\n",
    "        else:\n",
    "            index+=1\n",
    "        \n",
    "    found1=found1-1\n",
    "    equal=True\n",
    "    while equal:\n",
    "        rn2=InvertedCostSum*np.random.rand()\n",
    "        found2 = False\n",
    "        index=1\n",
    "        while not found2:\n",
    "            if rn2<InvertedCost[:index].sum(axis=0):\n",
    "                found2=index\n",
    "            else:\n",
    "                index+=1\n",
    "        found2=found2-1\n",
    "        if found2 != found1:\n",
    "            equal=False\n",
    "            \n",
    "    parent1=sortedPopulation[found1]\n",
    "    parent2=sortedPopulation[found2]\n",
    "    ########## parent1 und parent2 sind die selektierten Chromsomen##############################\n",
    "\n",
    "    \n",
    "    \n",
    "    #3.Kreuzung####################################################################################\n",
    "    crossrn=np.random.rand()\n",
    "    if crossrn<CROSSPROP:\n",
    "        cp=np.ceil(np.random.rand()*cities)\n",
    "        head1=parent1[:int(cp)]\n",
    "        \n",
    "        tailind=0\n",
    "        tail1=np.zeros(cities-int(cp)+1)\n",
    "        for a in range(cities):\n",
    "            if parent2[a] not in head1:\n",
    "                tail1[tailind]=parent2[a]\n",
    "                tailind+=1\n",
    "        tail1[-1]=head1[0]\n",
    "        head2=parent2[:int(cp)]\n",
    "        tailind=0\n",
    "        tail2=np.zeros(cities-int(cp)+1)\n",
    "        for a in range(cities):\n",
    "            if parent1[a] not in head2:\n",
    "                tail2[tailind]=parent1[a]\n",
    "                tailind+=1\n",
    "        tail2[-1]=head2[0]\n",
    "        child1=np.append(head1,tail1)\n",
    "        child2=np.append(head2,tail2)\n",
    "    #child1 und child2 sind die Ergebnisse der Kreuzung###############################################\n",
    "\n",
    "\n",
    "    #4. Mutation#########################################################################################\n",
    "    mutrn=np.random.rand()\n",
    "    if mutrn<MUTPROP:\n",
    "        mutInd=np.ceil(np.random.rand(2)*(cities-1))\n",
    "        first=child1[int(mutInd[0])]\n",
    "        second=child1[int(mutInd[1])]\n",
    "        child1[int(mutInd[0])]=second\n",
    "        child1[int(mutInd[1])]=first\n",
    "        child1[-1]=child1[0]\n",
    "\n",
    "    mutrn=np.random.rand()\n",
    "    if mutrn<MUTPROP:\n",
    "        mutInd=np.ceil(np.random.rand(2)*(cities-1))\n",
    "        first=child2[int(mutInd[0])]\n",
    "        second=child2[int(mutInd[1])]\n",
    "        child2[int(mutInd[0])]=second\n",
    "        child2[int(mutInd[1])]=first\n",
    "        child2[-1]=child2[0]\n",
    "    #child1 und child2 sind die Resultate der Mutation################################################\n",
    "\n",
    "\n",
    "\n",
    "    #5. Ersetze die bisher schlechtesten Chromosomen durch die neu gebildeten Chromosomen, falls die neuen\n",
    "    #besser sind\n",
    "    costChild1=0\n",
    "    costChild2=0\n",
    "    for z in range(cities):\n",
    "        costChild1=costChild1+distances[int(child1[z]),int(child1[z+1])]\n",
    "        costChild2=costChild2+distances[int(child2[z]),int(child2[z+1])]\n",
    "    replace1=False\n",
    "    replace2=False\n",
    "    index=POPSIZE-1\n",
    "    while index > 0:\n",
    "        if sortedCost[index]>costChild1 and not replace1:\n",
    "            if not np.ndarray.any(np.ndarray.all(child1==sortedPopulation,axis=1)):\n",
    "                sortedPopulation[index]=child1\n",
    "            replace1=True\n",
    "        elif sortedCost[index]>costChild2 and not replace2:\n",
    "            if not np.ndarray.any(np.ndarray.all(child2==sortedPopulation,axis=1)):\n",
    "                sortedPopulation[index]=child2\n",
    "            replace2=True\n",
    "        if replace1 and replace2:\n",
    "            break\n",
    "        index=index-1\n",
    "    population=sortedPopulation\n",
    "    ######################################Ende der Iteration#############################\n"
   ]
  },
  {
   "cell_type": "code",
   "execution_count": 13,
   "id": "26ba9206",
   "metadata": {},
   "outputs": [
    {
     "name": "stdout",
     "output_type": "stream",
     "text": [
      "Best distance  100.69787821181666\n",
      "Population  [16.  6. 15.  0. 17. 13.  1.  3. 19. 14.  4. 10.  8.  5.  7. 18. 11.  2.\n",
      "  9. 12. 16.]\n"
     ]
    },
    {
     "data": {
      "image/png": "[encoded data removed]",
      "text/plain": [
       "<Figure size 432x288 with 1 Axes>"
      ]
     },
     "metadata": {
      "needs_background": "light"
     },
     "output_type": "display_data"
    }
   ],
   "source": [
    "#Graphische Anzeige der Kosten über die Iterationen und graphische Anzeige des gefundenen Weges\n",
    "xcoords=[]\n",
    "ycoords=[]\n",
    "for i in range(cities+1):\n",
    "        xcoords.append(locations[int(sortedPopulation[0,i]),0])\n",
    "        ycoords.append(locations[int(sortedPopulation[0,i]),1])\n",
    "\n",
    "plt.plot(xcoords,ycoords,'r-')\n",
    "print(\"Best distance \",bestDist[-1])\n",
    "print(\"Population \",population[0])\n",
    "plt.subplot(122)\n",
    "plt.grid(True)\n",
    "plt.plot(range(ITERATIONS),bestDist)\n",
    "plt.show()"
   ]
  },
  {
   "cell_type": "code",
   "execution_count": null,
   "id": "54895103",
   "metadata": {},
   "outputs": [],
   "source": []
  }
 ],
 "metadata": {
  "kernelspec": {
   "display_name": "Python 3 (ipykernel)",
   "language": "python",
   "name": "python3"
  },
  "language_info": {
   "codemirror_mode": {
    "name": "ipython",
    "version": 3
   },
   "file_extension": ".py",
   "mimetype": "text/x-python",
   "name": "python",
   "nbconvert_exporter": "python",
   "pygments_lexer": "ipython3",
   "version": "3.7.3"
  }
 },
 "nbformat": 4,
 "nbformat_minor": 5
}
